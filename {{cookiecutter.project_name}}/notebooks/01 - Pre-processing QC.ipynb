{
 "cells": [
  {
   "cell_type": "code",
   "execution_count": null,
   "metadata": {},
   "outputs": [],
   "source": [
    "%run ../config/init.py"
   ]
  },
  {
   "cell_type": "markdown",
   "metadata": {},
   "source": [
    "## Setting workdir to `data/{{ cookiecutter.dataset_name }}`"
   ]
  },
  {
   "cell_type": "code",
   "execution_count": null,
   "metadata": {},
   "outputs": [],
   "source": [
    "data_dir = working_dir(os.path.join(DATA, DATASET))"
   ]
  },
  {
   "cell_type": "markdown",
   "metadata": {},
   "source": [
    "## Loading sample table file\n",
    "The sample table file named: **sample_table.csv** file should be in the folder `data/{{ cookiecutter.dataset_name }}`\n",
    "\n",
    "The \"sample_table.csv\" file should have at least the following columns:  \n",
    "`sample_name,file,condition,replicate`  \n",
    "Columns:\n",
    "\n",
    "Example:\n",
    "\n",
    "```\n",
    "sample_name,file,condition,replicate\n",
    "SRR2126784,,PRE_NACT,1\n",
    "SRR2126785,,PRE_NACT,1\n",
    "SRR2126786,,PRE_NACT,1\n",
    "```"
   ]
  },
  {
   "cell_type": "code",
   "execution_count": null,
   "metadata": {},
   "outputs": [],
   "source": [
    "sample_table_file = os.path.join(DATA, DATASET, 'sample_table.csv')\n",
    "sample_table = pandas.read_csv(sample_table_file, keep_default_na=False)\n",
    "sample_table.head()\n",
    "{% if cookiecutter.is_data_in_SRA == 'y' %}"
   ]
  },
  {
   "cell_type": "markdown",
   "metadata": {},
   "source": [
    "## Retrieving data using fastq-dump"
   ]
  },
  {
   "cell_type": "code",
   "execution_count": null,
   "metadata": {
    "pycharm": {
     "name": "#%%\n"
    },
    "scrolled": false
   },
   "outputs": [],
   "source": [
    "log_file = 'download.log'\n",
    "\n",
    "{% if cookiecutter.sequencing_technology is defined and cookiecutter.sequencing_technology == 'paired-end' %}\n",
    "cmd_header = '{0} {1}/sra/download_quality_control.cwl --threads {2} --split-files --ncbi_config {3} '.format(\n",
    "    CWLRUNNER, CWLWORKFLOWS, 2, NCBI_DIR)\n",
    "{% else %}\n",
    "cmd_header = '{0} {1}/sra/download_quality_control.cwl --threads {2} --ncbi_config {3} '.format(\n",
    "    CWLRUNNER, CWLWORKFLOWS, 2, NCBI_DIR)\n",
    "{% endif %}\n",
    "\n",
    "{% if cookiecutter.create_demo == 'y' %}\n",
    "cmd_header += ' -X {{ cookiecutter.number_spots}} '\n",
    "{% endif %}\n",
    "samples_cmd = ''\n",
    "for s in sample_table['sample_name'].unique():\n",
    "{% if cookiecutter.sequencing_technology is defined and cookiecutter.sequencing_technology == 'paired-end' %}\n",
    "    if not os.path.exists(s + '_1.fastq.gz') or not os.path.exists(s + '_2.fastq.gz'):\n",
    "        samples_cmd += '--accession {} '.format(s)\n",
    "{% else %}\n",
    "    if not os.path.exists(s + '.fastq.gz'):\n",
    "        samples_cmd += '--accession {} '.format(s)\n",
    "{% endif %}\n",
    "cmd_header += '{} > {} 2>&1 &'.format(samples_cmd, log_file)\n",
    "run_command(cmd_header)"
   ]
  },
  {
   "cell_type": "markdown",
   "source": [
    "### Checking command output\n",
    "Execute next cell until it prints: **Run completed**"
   ],
   "metadata": {
    "collapsed": false,
    "pycharm": {
     "name": "#%% md\n"
    }
   }
  },
  {
   "cell_type": "code",
   "execution_count": null,
   "outputs": [],
   "source": [
    "check_cwl_command_log(log_file)"
   ],
   "metadata": {
    "collapsed": false,
    "pycharm": {
     "name": "#%%\n"
    }
   }
  },
  {
   "cell_type": "markdown",
   "source": [
    "### Add files to the sample table"
   ],
   "metadata": {
    "collapsed": false,
    "pycharm": {
     "name": "#%% md\n"
    }
   }
  },
  {
   "cell_type": "code",
   "execution_count": null,
   "outputs": [],
   "source": [
    "{% if cookiecutter.sequencing_technology is defined and cookiecutter.sequencing_technology == 'paired-end' %}\n",
    "for i, r in sample_table.iterrows():\n",
    "    if not r['file']:\n",
    "        r1 = r['sample_name'] + '_1.fastq.gz'\n",
    "        r2 = r['sample_name'] + '_2.fastq.gz'\n",
    "        sample_table.at[i, 'file'] = '{}|{}'.format(r1,r2)\n",
    "{% else %}\n",
    "for i, r in sample_table.iterrows():\n",
    "    if not r['file']:\n",
    "        sample_table.at[i, 'file'] =  r['sample_name'] + '.fastq.gz'\n",
    "{% endif %}\n",
    "sample_table.to_csv(sample_table_file, index=None)\n",
    "\n",
    "{% else %}"
   ],
   "metadata": {
    "collapsed": false,
    "pycharm": {
     "name": "#%%\n"
    }
   }
  },
  {
   "cell_type": "markdown",
   "metadata": {},
   "source": [
    "## Pre-processing QC "
   ]
  },
  {
   "cell_type": "code",
   "execution_count": null,
   "metadata": {
    "pycharm": {
     "is_executing": false,
     "name": "#%%\n"
    }
   },
   "outputs": [],
   "source": [
    "log_file = 'fastqc.log'\n",
    "\n",
    "fastqc_yml = {\n",
    "    'threads': 2,\n",
    "    'fastqs': []\n",
    "}\n",
    "\n",
    "for i,r in sample_table.iterrows():\n",
    "    files = r['file'].split('|')\n",
    "    for f in files:  \n",
    "        fastqc_report = f.replace('.fastq.gz', '_fastqc.html')\n",
    "        if not os.path.exists(fastqc_report):\n",
    "            fastqc_yml['fastqs'].append({'class': 'File', 'path': os.path.join(data_dir, f)})\n",
    "            \n",
    "if fastqc_yml['fastqs']:\n",
    "    write_to_yaml(fastqc_yml, 'fastqc.yml')  \n",
    "    cmd_header = '{0} {1}/pre-processing/fastqc-parallel.cwl fastqc.yml > {2} 2>&1 & '.format(\n",
    "            CWLRUNNER, CWLWORKFLOWS, log_file)\n",
    "    run_command(cmd_header)"
   ]
  },
  {
   "cell_type": "markdown",
   "source": [
    "### Checking command output\n",
    "Execute next cell until it prints: **Run completed**"
   ],
   "metadata": {
    "collapsed": false,
    "pycharm": {
     "name": "#%% md\n"
    }
   }
  },
  {
   "cell_type": "code",
   "execution_count": null,
   "outputs": [],
   "source": [
    "check_cwl_command_log(log_file)\n",
    "{% endif %}"
   ],
   "metadata": {
    "collapsed": false,
    "pycharm": {
     "name": "#%%\n"
    }
   }
  }
 ],
 "metadata": {
  "kernelspec": {
   "display_name": "Python 3",
   "language": "python",
   "name": "python3"
  },
  "language_info": {
   "codemirror_mode": {
    "name": "ipython",
    "version": 3
   },
   "file_extension": ".py",
   "mimetype": "text/x-python",
   "name": "python",
   "nbconvert_exporter": "python",
   "pygments_lexer": "ipython3",
   "version": "3.7.3"
  },
  "pycharm": {
   "stem_cell": {
    "cell_type": "raw",
    "source": [],
    "metadata": {
     "collapsed": false
    }
   }
  }
 },
 "nbformat": 4,
 "nbformat_minor": 2
}