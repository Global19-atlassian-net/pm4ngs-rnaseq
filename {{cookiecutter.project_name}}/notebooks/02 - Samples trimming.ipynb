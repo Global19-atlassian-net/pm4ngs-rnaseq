{
 "cells": [
  {
   "cell_type": "code",
   "execution_count": null,
   "metadata": {},
   "outputs": [],
   "source": [
    "%run ../config/init.py"
   ]
  },
  {
   "cell_type": "markdown",
   "metadata": {},
   "source": [
    "## Setting workdir to `results/{{ cookiecutter.dataset_name }}/trimmomatic`"
   ]
  },
  {
   "cell_type": "code",
   "execution_count": null,
   "metadata": {},
   "outputs": [],
   "source": [
    "data_dir = os.path.join(DATA, DATASET)\n",
    "result_dir = working_dir(os.path.join(RESULTS, DATASET, 'trimmomatic'))\n",
    "sample_table_file = os.path.join(DATA, DATASET, 'sample_table.csv')\n",
    "sample_table = pandas.read_csv(sample_table_file, keep_default_na=False)\n",
    "sample_table.head()"
   ]
  },
  {
   "cell_type": "markdown",
   "metadata": {},
   "source": [
    "## Trimming and QC samples with Trimmomatic\n",
    "\n",
    "Trimmomatic options should be modified accordingly with the FastQC report taking into account:\n",
    "\n",
    "{% if cookiecutter.sequencing_technology is defined and cookiecutter.sequencing_technology == 'paired-end' %}\n",
    " * IlluminaClip: TruSeq3-PE.fa:2:30:10\n",
    "{% else %}\n",
    " * IlluminaClip: TruSeq3-SE.fa:2:30:10\n",
    "{% endif %}\n",
    " * Minlen: 25\n",
    " * Avgqual: 30\n",
    " * Leading: 30\n",
    " * Trailing: 30\n",
    " \n",
    "For more info about [Trimmomatic](http://www.usadellab.org/cms/?page=trimmomatic)\n",
    "\n",
    "### More options from the Trimmomatic CWL workflow\n",
    "```\n",
    "       [--avgqual AVGQUAL] \n",
    "       [--crop CROP]       \n",
    "       [--headcrop HEADCROP]\n",
    "       [--illuminaClip ILLUMINACLIP]\n",
    "       [--leading LEADING]\n",
    "       [--maxinfo MAXINFO]\n",
    "       [--minlen MINLEN]\n",
    "       [--phred PHRED]\n",
    "       [--tophred33]\n",
    "       [--tophred64]\n",
    "       [--trailing TRAILING]\n",
    "```"
   ]
  },
  {
   "cell_type": "code",
   "execution_count": null,
   "metadata": {},
   "outputs": [],
   "source": [
    "log_file = 'trimming.log'\n",
    "# Edit these values accordingly with the FastQC report and Trimmomatic path for adapters\n",
    "\n",
    "MINLEN = 25\n",
    "AVGQUAL = 30\n",
    "LEADING = 30\n",
    "TRAILING = 30\n",
    "{% if cookiecutter.sequencing_technology is defined and cookiecutter.sequencing_technology == 'paired-end' %}\n",
    "TRIMMOMATIC_ADAPTER = 'TruSeq3-PE.fa:2:30:10'\n",
    "\n",
    "trimming_yml = {\n",
    "    'threads': 2,\n",
    "    'illuminaClip': os.path.join(TRIMMOMATIC_ADAPTERS, TRIMMOMATIC_ADAPTER),\n",
    "    'minlen': MINLEN,\n",
    "    'avgqual': AVGQUAL,\n",
    "    'leading': LEADING,\n",
    "    'trailing': TRAILING,\n",
    "    'input_files': []\n",
    "}\n",
    "for i, r in sample_table.iterrows():\n",
    "    files = r['file'].split('|')\n",
    "    r1 = os.path.join(DATA, DATASET, files[0])\n",
    "    r2 = os.path.join(DATA, DATASET, files[1])\n",
    "    if not os.path.exists(files[0]) or \\\n",
    "        not os.path.exists(files[1]):\n",
    "        trimming_yml['input_files'].append([\n",
    "            {'class': 'File', 'path': r1},\n",
    "            {'class': 'File', 'path': r2}])\n",
    "{% else %}\n",
    "TRIMMOMATIC_ADAPTER = 'TruSeq3-SE.fa:2:30:10'\n",
    "\n",
    "trimming_yml = {\n",
    "    'threads': 2,\n",
    "    'illuminaClip': os.path.join(TRIMMOMATIC_ADAPTERS, TRIMMOMATIC_ADAPTER),\n",
    "    'minlen': MINLEN,\n",
    "    'avgqual': AVGQUAL,\n",
    "    'leading': LEADING,\n",
    "    'trailing': TRAILING,\n",
    "    'input_files': []\n",
    "}\n",
    "\n",
    "for i, r in sample_table.iterrows():\n",
    "    f = os.path.join(DATA, DATASET, r['file'])\n",
    "    if not os.path.exists(r['file']):\n",
    "        trimming_yml['input_files'].append({'class': 'File', 'path': f})\n",
    "{% endif %}\n",
    "\n",
    "if trimming_yml['input_files']:\n",
    "    write_to_yaml(trimming_yml, 'trimming.yml')  \n",
    "{% if cookiecutter.sequencing_technology is defined and cookiecutter.sequencing_technology == 'paired-end' %}\n",
    "    cmd_header = '{} {}/pre-processing/trimming-qc-pe.cwl trimming.yml > {} 2>&1 &'.format(\n",
    "        CWLRUNNER, CWLWORKFLOWS, log_file)\n",
    "{% else %}\n",
    "    cmd_header = '{} {}/pre-processing/trimming-qc-se.cwl trimming.yml > {} 2>&1 &'.format(\n",
    "        CWLRUNNER, CWLWORKFLOWS, log_file)\n",
    "{% endif %}\n",
    "    run_command(cmd_header)"
   ]
  },
  {
   "cell_type": "markdown",
   "metadata": {},
   "source": [
    "### Checking command output\n",
    "Execute next cell until it prints: **Run completed**"
   ]
  },
  {
   "cell_type": "code",
   "execution_count": null,
   "metadata": {
    "pycharm": {
     "name": "#%%\n"
    }
   },
   "outputs": [],
   "source": [
    "check_cwl_command_log(log_file)\n"
   ]
  }
 ],
 "metadata": {
  "kernelspec": {
   "display_name": "Python 3",
   "language": "python",
   "name": "python3"
  },
  "language_info": {
   "codemirror_mode": {
    "name": "ipython",
    "version": 3
   },
   "file_extension": ".py",
   "mimetype": "text/x-python",
   "name": "python",
   "nbconvert_exporter": "python",
   "pygments_lexer": "ipython3",
   "version": "3.7.3"
  },
  "pycharm": {
   "stem_cell": {
    "cell_type": "raw",
    "source": [],
    "metadata": {
     "collapsed": false
    }
   }
  }
 },
 "nbformat": 4,
 "nbformat_minor": 2
}